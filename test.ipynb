{
 "cells": [
  {
   "cell_type": "code",
   "execution_count": 17,
   "metadata": {},
   "outputs": [
    {
     "name": "stdout",
     "output_type": "stream",
     "text": [
      "b=[[5.35842042]\n",
      " [9.61887101]\n",
      " [3.25430998]\n",
      " [3.38521404]]\n",
      "(4, 9)\n",
      "(4, 1)\n",
      "a=(4, 10)\n",
      "[]\n",
      "x=(0,)\n",
      "y=[3.38521404 3.25430998 9.61887101 5.35842042]\n",
      "(4,)\n",
      "a=[[ 2.92450537 87.20204091  2.21105485 63.93762383  6.56571586 52.23893914\n",
      "  49.21682811 21.00313123 73.85165254  3.38521404]\n",
      " [95.35684302 58.64875458 29.10987282  3.64457431 95.47642653  1.8471273\n",
      "   6.23766849 77.71944608 94.23515484  3.25430998]\n",
      " [17.82446976 54.52344839 52.14012936 71.61492864 64.76732139 52.98645222\n",
      "   6.29601078 37.75175609 54.29810164  9.61887101]\n",
      " [94.69014913 17.84727644 82.74274031 37.69172656 73.63021662  0.94115195\n",
      "  15.93097603 18.31512314 64.03084427  5.35842042]]\n",
      "x=[]\n"
     ]
    }
   ],
   "source": [
    "import numpy as np\n",
    "import os.path\n",
    "\n",
    "a= np.random.rand(4,3,3)*100\n",
    "b= np.random.rand(4,1)*10\n",
    "print('b='+str(b))\n",
    "\n",
    "a=np.reshape(a,(4,-1))\n",
    "print(a.shape)\n",
    "print(b.shape)\n",
    "a=np.append(a,b,axis=1)\n",
    "print('a='+str(a.shape))\n",
    "\n",
    "np.random.shuffle(a)\n",
    "\n",
    "# x= np.empty((a.shape[0],1))\n",
    "x= np.array([])\n",
    "print(x)\n",
    "# for i in range(a.shape[1]-1):\n",
    "#     if i==0:\n",
    "#         x= np.array(a[:,i]).reshape(-1,1)\n",
    "#     else:\n",
    "#         x=np.append(x,np.array(a[:,i]).reshape(-1,1),axis=1)\n",
    "\n",
    "\n",
    "y= np.array(a[:,a.shape[1]-1])\n",
    "print('x='+str(x.shape))\n",
    "print('y='+str(y))\n",
    "print(y.shape)\n",
    "print('a='+str(a))\n",
    "print('x='+str(x))\n",
    "\n"
   ]
  },
  {
   "cell_type": "code",
   "execution_count": 12,
   "metadata": {},
   "outputs": [
    {
     "name": "stdout",
     "output_type": "stream",
     "text": [
      "a=[[[77.85669384 21.15744454 85.60935817]\n",
      "  [18.04427172 64.69797987 18.49422401]\n",
      "  [53.93010688 14.17338002 10.15914006]]\n",
      "\n",
      " [[78.62463883 21.64971723 66.34641763]\n",
      "  [10.56921806 46.28444135 18.67057289]\n",
      "  [22.68642786 10.88162367 82.46025505]]\n",
      "\n",
      " [[62.04710427 72.59085189 20.52069669]\n",
      "  [34.16088279 17.35732006 12.91627889]\n",
      "  [27.35493129 60.11947292 86.96850552]]\n",
      "\n",
      " [[46.7445189  37.91918311 53.60815009]\n",
      "  [75.26265247 21.24821586 42.64600539]\n",
      "  [16.60715105 74.34399452 55.969127  ]]]\n",
      "(4, 9)\n",
      "(4, 9)\n",
      "(4, 3, 3)\n",
      "-----------------------\n",
      "a=[[[46.7445189  37.91918311 53.60815009]\n",
      "  [75.26265247 21.24821586 42.64600539]\n",
      "  [16.60715105 74.34399452 55.969127  ]]\n",
      "\n",
      " [[62.04710427 72.59085189 20.52069669]\n",
      "  [34.16088279 17.35732006 12.91627889]\n",
      "  [27.35493129 60.11947292 86.96850552]]\n",
      "\n",
      " [[78.62463883 21.64971723 66.34641763]\n",
      "  [10.56921806 46.28444135 18.67057289]\n",
      "  [22.68642786 10.88162367 82.46025505]]\n",
      "\n",
      " [[77.85669384 21.15744454 85.60935817]\n",
      "  [18.04427172 64.69797987 18.49422401]\n",
      "  [53.93010688 14.17338002 10.15914006]]]\n"
     ]
    }
   ],
   "source": [
    "a= np.random.rand(4,3,3)*100\n",
    "print('a='+str(a))\n",
    "dim = a.shape\n",
    "a= np.reshape(a,(4,-1))\n",
    "print(a.shape)\n",
    "np.random.shuffle(a)\n",
    "print(a.shape)\n",
    "a= np.reshape(a,dim)\n",
    "print(a.shape)\n",
    "print('-----------------------')\n",
    "print('a='+str(a))"
   ]
  },
  {
   "cell_type": "code",
   "execution_count": null,
   "metadata": {},
   "outputs": [],
   "source": [
    "def shuffle_examples(X,Y):\n",
    "    dim= X.shape\n",
    "    X= np.reshape(X,(X.shape[0],-1))\n",
    "    Y=Y.reshape(-1,1)\n",
    "    X= np.append(X, Y, axis=1)\n",
    "    np.random.shuffle(X)\n",
    "    \n",
    "    A=np.array([])\n",
    "    \n",
    "    for i in range(X.shape[1]-1):\n",
    "        if i==0:\n",
    "            A= np.array(X[:,i]).reshape(-1,1)\n",
    "        else:\n",
    "            A=np.append(A,np.array(X[:,i]).reshape(-1,1),axis=1)\n",
    "\n",
    "    Y= np.array(X[:,X.shape[1]-1])\n",
    "    \n",
    "    A= np.reshape(A,dim)\n",
    "    \n",
    "    return A,Y\n",
    "    "
   ]
  },
  {
   "cell_type": "code",
   "execution_count": 27,
   "metadata": {},
   "outputs": [],
   "source": []
  },
  {
   "cell_type": "code",
   "execution_count": 4,
   "metadata": {},
   "outputs": [
    {
     "name": "stdout",
     "output_type": "stream",
     "text": [
      "[[-0.485456  1.492446]\n",
      " [-0.852342 -1.644605]\n",
      " [ 0.115609 -1.54102 ]]\n"
     ]
    }
   ],
   "source": [
    "import os.path\n",
    "from numpy import genfromtxt\n",
    "\n",
    "A= np.random.randn(3,2)\n",
    "np.savetxt('2darray.csv', A, delimiter=',', fmt='%f')\n",
    "\n",
    "\n",
    "if(os.path.exists('2darray.csv')==True):\n",
    "        A = genfromtxt('2darray.csv', delimiter=',')\n",
    "        print(A)\n",
    "        \n",
    "\n"
   ]
  },
  {
   "cell_type": "code",
   "execution_count": 6,
   "metadata": {},
   "outputs": [],
   "source": [
    "# A= np.random.randn(3,2)\n",
    "# np.save('2darray.npy', A)\n",
    "\n",
    "\n",
    "# if(os.path.exists('2darray.npy')==True):\n",
    "#         A = np.load('2darray.npy')\n",
    "#         print(A)\n",
    "\n",
    "a=np.array([])\n",
    "np.save('2darray.npy', a)\n",
    "np.save('train_images.npy',a)\n",
    "np.save('train_labels.npy',a)\n",
    "np.save('test_images.npy',a)\n",
    "np.save('test_labels.npy',a)\n",
    "        \n"
   ]
  },
  {
   "cell_type": "code",
   "execution_count": null,
   "metadata": {},
   "outputs": [],
   "source": [
    "# TensorFlow and tf.keras\n",
    "import tensorflow as tf\n",
    "from tensorflow import keras\n",
    "import os.path\n",
    "from saveDataset import save_data\n",
    "\n",
    "# Helper libraries\n",
    "import numpy as np\n",
    "from numpy import genfromtxt\n",
    "import matplotlib.pyplot as plt\n",
    "import glob, os\n",
    "import re\n",
    "\n",
    "# Pillow\n",
    "import PIL\n",
    "from PIL import Image\n",
    "\n",
    "\n",
    "\n",
    "# load json and create model\n",
    "json_file = open('model.json', 'r')\n",
    "loaded_model_json = json_file.read()\n",
    "json_file.close()\n",
    "loaded_model = model_from_json(loaded_model_json)\n",
    "# load weights into new model\n",
    "loaded_model.load_weights(\"model.h5\")\n",
    "print(\"Loaded model from disk\")\n",
    " \n",
    "# evaluate loaded model on test data\n",
    "loaded_model.compile(loss='binary_crossentropy', optimizer='rmsprop', metrics=['accuracy'])\n",
    "score = loaded_model.evaluate(X, Y, verbose=0)\n",
    "print(\"%s: %.2f%%\" % (loaded_model.metrics_names[1], score[1]*100))"
   ]
  }
 ],
 "metadata": {
  "kernelspec": {
   "display_name": "Python 3",
   "language": "python",
   "name": "python3"
  },
  "language_info": {
   "codemirror_mode": {
    "name": "ipython",
    "version": 3
   },
   "file_extension": ".py",
   "mimetype": "text/x-python",
   "name": "python",
   "nbconvert_exporter": "python",
   "pygments_lexer": "ipython3",
   "version": "3.7.3"
  }
 },
 "nbformat": 4,
 "nbformat_minor": 2
}
