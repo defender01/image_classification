{
 "cells": [
  {
   "cell_type": "code",
   "execution_count": 1,
   "metadata": {},
   "outputs": [],
   "source": [
    "# TensorFlow and tf.keras\n",
    "import tensorflow as tf\n",
    "from tensorflow import keras\n",
    "import os.path\n",
    "from saveDataset import save_data\n",
    "\n",
    "# Helper libraries\n",
    "import numpy as np\n",
    "from numpy import genfromtxt\n",
    "import matplotlib.pyplot as plt\n",
    "import glob, os\n",
    "import re\n",
    "\n",
    "# Pillow\n",
    "import PIL\n",
    "from PIL import Image"
   ]
  },
  {
   "cell_type": "markdown",
   "metadata": {},
   "source": [
    "set rootpath= path of the directory containing 'image-recognition-tensorflow-master'"
   ]
  },
  {
   "cell_type": "code",
   "execution_count": 2,
   "metadata": {},
   "outputs": [],
   "source": [
    "rootpath='D:\\hackathon'"
   ]
  },
  {
   "cell_type": "code",
   "execution_count": 3,
   "metadata": {},
   "outputs": [],
   "source": [
    "# Use Pillow library to convert an input jpeg to a 8 bit grey scale image array for processing.\n",
    "def jpeg_to_8_bit_greyscale(path, maxsize):\n",
    "        img = Image.open(path).convert('L')   # convert image to 8-bit grayscale\n",
    "        # Make aspect ratio as 1:1, by applying image crop.\n",
    "    # Please note, croping works for this data set, but in general one\n",
    "    # needs to locate the subject and then crop or scale accordingly.\n",
    "        WIDTH, HEIGHT = img.size\n",
    "        if WIDTH != HEIGHT:\n",
    "                m_min_d = min(WIDTH, HEIGHT)\n",
    "                img = img.crop((0, 0, m_min_d, m_min_d))\n",
    "        # Scale the image to the requested maxsize by Anti-alias sampling.\n",
    "        img.thumbnail(maxsize, PIL.Image.ANTIALIAS)\n",
    "        return np.asarray(img)"
   ]
  },
  {
   "cell_type": "code",
   "execution_count": 4,
   "metadata": {},
   "outputs": [],
   "source": [
    "def load_image_dataset(path_dir, maxsize):\n",
    "        images = []\n",
    "        labels = []\n",
    "        os.chdir(path_dir)\n",
    "        for file in glob.glob(\"*.jpg\"):\n",
    "                img = jpeg_to_8_bit_greyscale(file, maxsize)\n",
    "#                 if re.match('chihuahua.*', file):\n",
    "                if re.match('plastic.*', file):\n",
    "                        images.append(img)\n",
    "                        labels.append(0)\n",
    "#                 elif re.match('muffin.*', file):\n",
    "                elif re.match('paper.*', file):\n",
    "                        images.append(img)\n",
    "                        labels.append(1)\n",
    "                else:\n",
    "                    images.append(img)\n",
    "                    labels.append(1)\n",
    "        return (np.array(images), np.array(labels))"
   ]
  },
  {
   "cell_type": "code",
   "execution_count": 5,
   "metadata": {},
   "outputs": [],
   "source": [
    "def shuffle_examples(X,Y):\n",
    "    dim= X.shape\n",
    "    X= np.reshape(X,(X.shape[0],-1))\n",
    "    Y=Y.reshape(-1,1)\n",
    "    X= np.append(X, Y, axis=1)\n",
    "    \n",
    "    np.random.seed(0)\n",
    "    np.random.shuffle(X)\n",
    "    \n",
    "    A=np.array([])\n",
    "    \n",
    "    for i in range(X.shape[1]-1):\n",
    "        if i==0:\n",
    "            A= np.array(X[:,i]).reshape(-1,1)\n",
    "        else:\n",
    "            A=np.append(A,np.array(X[:,i]).reshape(-1,1),axis=1)\n",
    "\n",
    "    Y= np.array(X[:,X.shape[1]-1])\n",
    "    \n",
    "    A= np.reshape(A,dim)\n",
    "    \n",
    "    return A,Y\n",
    "    "
   ]
  },
  {
   "cell_type": "code",
   "execution_count": 6,
   "metadata": {},
   "outputs": [],
   "source": [
    "maxsize = 100, 100"
   ]
  },
  {
   "cell_type": "code",
   "execution_count": 7,
   "metadata": {},
   "outputs": [
    {
     "ename": "OSError",
     "evalue": "[WinError 123] The filename, directory name, or volume label syntax is incorrect: 'D:\\\\hackathon\\\\image_classification\\\\plastic_paper\\test_set'",
     "output_type": "error",
     "traceback": [
      "\u001b[1;31m---------------------------------------------------------------------------\u001b[0m",
      "\u001b[1;31mOSError\u001b[0m                                   Traceback (most recent call last)",
      "\u001b[1;32m<ipython-input-7-51b65b297da8>\u001b[0m in \u001b[0;36m<module>\u001b[1;34m\u001b[0m\n\u001b[0;32m      1\u001b[0m \u001b[1;32mif\u001b[0m\u001b[1;33m(\u001b[0m\u001b[0mos\u001b[0m\u001b[1;33m.\u001b[0m\u001b[0mpath\u001b[0m\u001b[1;33m.\u001b[0m\u001b[0mexists\u001b[0m\u001b[1;33m(\u001b[0m\u001b[0mrootpath\u001b[0m\u001b[1;33m+\u001b[0m\u001b[1;34m'\\image-recognition-tensorflow-master\\train_images.npy'\u001b[0m\u001b[1;33m)\u001b[0m\u001b[1;33m==\u001b[0m\u001b[1;32mFalse\u001b[0m\u001b[1;33m)\u001b[0m\u001b[1;33m:\u001b[0m\u001b[1;33m\u001b[0m\u001b[1;33m\u001b[0m\u001b[0m\n\u001b[0;32m      2\u001b[0m     \u001b[1;33m(\u001b[0m\u001b[0mtrain_images\u001b[0m\u001b[1;33m,\u001b[0m \u001b[0mtrain_labels\u001b[0m\u001b[1;33m)\u001b[0m \u001b[1;33m=\u001b[0m \u001b[0mload_image_dataset\u001b[0m\u001b[1;33m(\u001b[0m\u001b[0mrootpath\u001b[0m\u001b[1;33m+\u001b[0m\u001b[1;34m'\\image_classification\\plastic_paper'\u001b[0m\u001b[1;33m,\u001b[0m \u001b[0mmaxsize\u001b[0m\u001b[1;33m)\u001b[0m\u001b[1;33m\u001b[0m\u001b[1;33m\u001b[0m\u001b[0m\n\u001b[1;32m----> 3\u001b[1;33m     \u001b[1;33m(\u001b[0m\u001b[0mtest_images\u001b[0m\u001b[1;33m,\u001b[0m \u001b[0mtest_labels\u001b[0m\u001b[1;33m)\u001b[0m \u001b[1;33m=\u001b[0m \u001b[0mload_image_dataset\u001b[0m\u001b[1;33m(\u001b[0m\u001b[0mrootpath\u001b[0m\u001b[1;33m+\u001b[0m\u001b[1;34m'\\image_classification\\plastic_paper\\test_set'\u001b[0m\u001b[1;33m,\u001b[0m \u001b[0mmaxsize\u001b[0m\u001b[1;33m)\u001b[0m\u001b[1;33m\u001b[0m\u001b[1;33m\u001b[0m\u001b[0m\n\u001b[0m\u001b[0;32m      4\u001b[0m \u001b[1;33m\u001b[0m\u001b[0m\n\u001b[0;32m      5\u001b[0m \u001b[1;31m#     (train_images, train_labels) = load_image_dataset(rootpath+'\\image_classification\\chihuahua-muffin', maxsize)\u001b[0m\u001b[1;33m\u001b[0m\u001b[1;33m\u001b[0m\u001b[1;33m\u001b[0m\u001b[0m\n",
      "\u001b[1;32m<ipython-input-4-ea1ecf049f20>\u001b[0m in \u001b[0;36mload_image_dataset\u001b[1;34m(path_dir, maxsize)\u001b[0m\n\u001b[0;32m      2\u001b[0m         \u001b[0mimages\u001b[0m \u001b[1;33m=\u001b[0m \u001b[1;33m[\u001b[0m\u001b[1;33m]\u001b[0m\u001b[1;33m\u001b[0m\u001b[1;33m\u001b[0m\u001b[0m\n\u001b[0;32m      3\u001b[0m         \u001b[0mlabels\u001b[0m \u001b[1;33m=\u001b[0m \u001b[1;33m[\u001b[0m\u001b[1;33m]\u001b[0m\u001b[1;33m\u001b[0m\u001b[1;33m\u001b[0m\u001b[0m\n\u001b[1;32m----> 4\u001b[1;33m         \u001b[0mos\u001b[0m\u001b[1;33m.\u001b[0m\u001b[0mchdir\u001b[0m\u001b[1;33m(\u001b[0m\u001b[0mpath_dir\u001b[0m\u001b[1;33m)\u001b[0m\u001b[1;33m\u001b[0m\u001b[1;33m\u001b[0m\u001b[0m\n\u001b[0m\u001b[0;32m      5\u001b[0m         \u001b[1;32mfor\u001b[0m \u001b[0mfile\u001b[0m \u001b[1;32min\u001b[0m \u001b[0mglob\u001b[0m\u001b[1;33m.\u001b[0m\u001b[0mglob\u001b[0m\u001b[1;33m(\u001b[0m\u001b[1;34m\"*.jpg\"\u001b[0m\u001b[1;33m)\u001b[0m\u001b[1;33m:\u001b[0m\u001b[1;33m\u001b[0m\u001b[1;33m\u001b[0m\u001b[0m\n\u001b[0;32m      6\u001b[0m                 \u001b[0mimg\u001b[0m \u001b[1;33m=\u001b[0m \u001b[0mjpeg_to_8_bit_greyscale\u001b[0m\u001b[1;33m(\u001b[0m\u001b[0mfile\u001b[0m\u001b[1;33m,\u001b[0m \u001b[0mmaxsize\u001b[0m\u001b[1;33m)\u001b[0m\u001b[1;33m\u001b[0m\u001b[1;33m\u001b[0m\u001b[0m\n",
      "\u001b[1;31mOSError\u001b[0m: [WinError 123] The filename, directory name, or volume label syntax is incorrect: 'D:\\\\hackathon\\\\image_classification\\\\plastic_paper\\test_set'"
     ]
    }
   ],
   "source": [
    "if(os.path.exists(rootpath+'\\image-recognition-tensorflow-master\\train_images.npy')==False):\n",
    "    (train_images, train_labels) = load_image_dataset(rootpath+'\\image_classification\\plastic_paper', maxsize)\n",
    "    (test_images, test_labels) = load_image_dataset(rootpath+'\\image_classification\\plastic_paper\\test_set', maxsize)\n",
    "\n",
    "#     (train_images, train_labels) = load_image_dataset(rootpath+'\\image_classification\\chihuahua-muffin', maxsize)\n",
    "#     (test_images, test_labels) = load_image_dataset(rootpath+'\\image_classification\\chihuahua-muffin/test_set', maxsize)\n",
    "    print(train_images.shape)\n",
    "    train_images, train_labels = shuffle_examples(train_images, train_labels)\n",
    "    test_images, test_labels = shuffle_examples(test_images, test_labels)\n",
    "    print('here')\n",
    "    data={\n",
    "        'train_images': np.reshape(train_images,(train_images.shape[0],-1)),\n",
    "        'train_labels':train_labels.reshape(-1,1),\n",
    "        'test_images':np.reshape(test_images,(test_images.shape[0],-1)),\n",
    "        'test_labels':test_labels.reshape(-1,1)\n",
    "    }\n",
    "#     save_data(data)\n",
    "    \n",
    "else:\n",
    "    print('found')\n",
    "    train_images = np.load('train_images.npy')\n",
    "    train_labels = np.load('train_labels.npy')\n",
    "    test_images = np.load('test_images.npy')\n",
    "    test_labels = np.load('test_labels.npy')\n",
    "    \n",
    "    train_images= np.reshape(train_images,(train_images.shape[0],maxsize))\n",
    "    test_images= np.reshape(test_images,(test_images.shape[0],maxsize))\n",
    "\n"
   ]
  },
  {
   "cell_type": "code",
   "execution_count": null,
   "metadata": {},
   "outputs": [],
   "source": [
    "# class_names = ['chihuahua', 'muffin']\n",
    "class_names = ['plastic', 'paper']\n",
    "\n",
    "\n"
   ]
  },
  {
   "cell_type": "code",
   "execution_count": null,
   "metadata": {},
   "outputs": [],
   "source": [
    "\n",
    "print(train_images.shape)"
   ]
  },
  {
   "cell_type": "code",
   "execution_count": null,
   "metadata": {},
   "outputs": [],
   "source": [
    "\n",
    "print(train_labels.shape)"
   ]
  },
  {
   "cell_type": "code",
   "execution_count": null,
   "metadata": {},
   "outputs": [],
   "source": [
    "print(test_images.shape)\n",
    "print(test_labels)"
   ]
  },
  {
   "cell_type": "code",
   "execution_count": null,
   "metadata": {},
   "outputs": [],
   "source": [
    "def display_images(images, labels):\n",
    "        plt.figure(figsize=(10,10))\n",
    "        grid_size = min(25, len(images))\n",
    "        for i in range(grid_size):\n",
    "                plt.subplot(5, 5, i+1)\n",
    "                plt.xticks([])\n",
    "                plt.yticks([])\n",
    "                plt.grid(False)\n",
    "                plt.imshow(images[i], cmap=plt.cm.binary)\n",
    "                plt.xlabel(class_names[labels[i]])"
   ]
  },
  {
   "cell_type": "code",
   "execution_count": null,
   "metadata": {},
   "outputs": [],
   "source": [
    "display_images(train_images, train_labels)\n",
    "plt.show()"
   ]
  },
  {
   "cell_type": "code",
   "execution_count": null,
   "metadata": {},
   "outputs": [],
   "source": [
    "train_images = train_images / 255.0\n",
    "test_images = test_images / 255.0\n",
    "print(train_images.shape)\n",
    "print(test_images.shape)"
   ]
  },
  {
   "cell_type": "code",
   "execution_count": null,
   "metadata": {},
   "outputs": [],
   "source": [
    "# Setting up the layers.\n",
    "\n",
    "# model = keras.Sequential([\n",
    "#     keras.layers.Flatten(input_shape=(100, 100)),\n",
    "#         keras.layers.Dense(128, activation=tf.nn.sigmoid),\n",
    "#         keras.layers.Dense(16, activation=tf.nn.sigmoid),\n",
    "#     keras.layers.Dense(2, activation=tf.nn.softmax)\n",
    "# ])\n",
    "\n",
    "model = keras.models.Sequential([\n",
    "                keras.layers.Flatten(input_shape = ( 100, 100)),\n",
    "                keras.layers.Dense(512, activation=tf.nn.relu),\n",
    "                keras.layers.Dropout(0.5),\n",
    "                keras.layers.Dense(128, activation=tf.nn.relu),\n",
    "                keras.layers.Dense(16, activation=tf.nn.relu),\n",
    "        keras.layers.Dense(2, activation=tf.nn.softmax)\n",
    "        ])\n",
    "\n",
    "# model = keras.models.Sequential([\n",
    "#                 keras.layers.Flatten(input_shape = ( 100, 100)),\n",
    "#                 keras.layers.Dense(1024, activation=tf.nn.relu),\n",
    "#                 keras.layers.Dropout(0.5),\n",
    "#                 keras.layers.Dense(512, activation=tf.nn.relu),\n",
    "#                 keras.layers.Dropout(0.5),\n",
    "#                 keras.layers.Dense(64, activation=tf.nn.relu),\n",
    "#                 keras.layers.Dense(16, activation=tf.nn.relu),\n",
    "#         keras.layers.Dense(2, activation=tf.nn.softmax)\n",
    "#         ])"
   ]
  },
  {
   "cell_type": "code",
   "execution_count": null,
   "metadata": {},
   "outputs": [],
   "source": [
    "sgd = keras.optimizers.SGD(lr=0.01, decay=1e-5, momentum=0.7, nesterov=True)\n",
    "\n",
    "model.compile(optimizer=sgd,\n",
    "              loss='sparse_categorical_crossentropy',\n",
    "              metrics=['accuracy'])"
   ]
  },
  {
   "cell_type": "code",
   "execution_count": null,
   "metadata": {},
   "outputs": [],
   "source": [
    "model.fit(train_images, train_labels, epochs=100)"
   ]
  },
  {
   "cell_type": "code",
   "execution_count": null,
   "metadata": {},
   "outputs": [],
   "source": [
    "test_loss, test_acc = model.evaluate(test_images, test_labels)\n",
    "print('Test accuracy:', test_acc)"
   ]
  },
  {
   "cell_type": "code",
   "execution_count": null,
   "metadata": {},
   "outputs": [],
   "source": [
    "predictions = model.predict(test_images)"
   ]
  },
  {
   "cell_type": "code",
   "execution_count": null,
   "metadata": {},
   "outputs": [],
   "source": [
    "print(predictions)"
   ]
  },
  {
   "cell_type": "code",
   "execution_count": null,
   "metadata": {},
   "outputs": [],
   "source": [
    "display_images(test_images, np.argmax(predictions, axis = 1))\n",
    "plt.show()"
   ]
  },
  {
   "cell_type": "markdown",
   "metadata": {},
   "source": [
    "keep the images you want to classify in 'unknown' folder"
   ]
  },
  {
   "cell_type": "code",
   "execution_count": null,
   "metadata": {},
   "outputs": [],
   "source": [
    "# serialize model to JSON\n",
    "# model_json = model.to_json()\n",
    "# with open(rootpath+\"\\image_classification\\model.json\", \"w\") as json_file:\n",
    "#     json_file.write(model_json)\n",
    "# # serialize weights to HDF5\n",
    "# model.save_weights(rootpath+\"\\image_classification\\model.h5\")\n",
    "# print(\"Saved model to disk\")\n",
    "\n",
    "(test_image, label) = load_image_dataset(rootpath+'/image_classification/unknown', maxsize)\n",
    "\n",
    "predictons=model.predict(test_image)\n",
    "print(predictions)\n",
    "display_images(test_image, np.argmax(predictions, axis = 1))\n",
    "plt.show()\n",
    " "
   ]
  }
 ],
 "metadata": {
  "kernelspec": {
   "display_name": "Python 3",
   "language": "python",
   "name": "python3"
  },
  "language_info": {
   "codemirror_mode": {
    "name": "ipython",
    "version": 3
   },
   "file_extension": ".py",
   "mimetype": "text/x-python",
   "name": "python",
   "nbconvert_exporter": "python",
   "pygments_lexer": "ipython3",
   "version": "3.7.3"
  }
 },
 "nbformat": 4,
 "nbformat_minor": 2
}
